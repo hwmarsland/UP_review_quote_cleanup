{
 "cells": [
  {
   "cell_type": "code",
   "execution_count": null,
   "metadata": {},
   "outputs": [],
   "source": [
    "import pandas as pd\n",
    "import re\n",
    "import numpy as np"
   ]
  },
  {
   "cell_type": "code",
   "execution_count": null,
   "metadata": {},
   "outputs": [],
   "source": [
    "raw_data = pd.read_excel('blurbs_export20220608.xlsx', index_col = 0)\n",
    "edited_data = raw_data.copy()\n",
    "edited_data"
   ]
  },
  {
   "cell_type": "code",
   "execution_count": null,
   "metadata": {},
   "outputs": [],
   "source": [
    "edited_data['temp'] = edited_data['Copy Filtered::Text']"
   ]
  },
  {
   "cell_type": "code",
   "execution_count": null,
   "metadata": {},
   "outputs": [],
   "source": [
    "edited_data['temp'] = edited_data['temp'].replace('â€™', '\\'', regex=True)\n",
    "edited_data['temp'] = edited_data['temp'].replace('###', '<i>', regex=True)\n",
    "edited_data['temp'] = edited_data['temp'].replace('##', '<i>', regex=True)\n",
    "edited_data['temp'] = edited_data['temp'].replace('#', '</i>', regex=True)\n",
    "edited_data['temp'] = edited_data['temp'].replace('â€”', '--', regex=True)\n",
    "edited_data['temp'] = edited_data['temp'].replace('â€“', '--', regex=True)\n",
    "edited_data['temp'] = edited_data['temp'].replace('â€¦', ' . . . ', regex=True)\n",
    "edited_data['temp'] = edited_data['temp'].replace('â€˜', '\\'', regex=True)\n",
    "edited_data['temp'] = edited_data['temp'].replace(' â€œ', ' \\'', regex=True)\n",
    "edited_data['temp'] = edited_data['temp'].replace('â€ ', '\\' ', regex=True)\n",
    "edited_data['temp'] = edited_data['temp'].replace('“', '\"', regex=True)\n",
    "edited_data['temp'] = edited_data['temp'].replace('”', '\"', regex=True)\n",
    "edited_data['temp'] = edited_data['temp'].replace('’', '\\'', regex=True)\n",
    "edited_data['temp'] = edited_data['temp'].replace('‘', '\\'', regex=True)\n",
    "edited_data['temp'] = edited_data['temp'].replace('.\\'--<i>', '.\"--<i>', regex=True)\n",
    "edited_data['temp'] = edited_data['temp'].replace('.--<i>', '.\"--<i>', regex=True)\n",
    "edited_data['temp'] = edited_data['temp'].replace('Ã¤', 'ä', regex=True)\n",
    "edited_data['temp'] = edited_data['temp'].replace('Ã©', 'é', regex=True)\n",
    "edited_data['temp'] = edited_data['temp'].replace('Ã', 'í', regex=True)\n",
    "\n",
    "\n",
    "edited_data['temp'] = edited_data['temp'].replace('â€œ', '\"', regex=True)\n",
    "edited_data['temp'] = edited_data['temp'].replace('â€', '\"', regex=True)\n",
    "edited_data\n"
   ]
  },
  {
   "cell_type": "code",
   "execution_count": null,
   "metadata": {},
   "outputs": [],
   "source": [
    "edited_data = edited_data.reset_index()\n",
    "edited_data"
   ]
  },
  {
   "cell_type": "code",
   "execution_count": null,
   "metadata": {},
   "outputs": [],
   "source": [
    "counter = 0\n",
    "for i in edited_data['temp']:\n",
    "    text = str(re.findall('\"([^\"]*)\"', str(i)))\n",
    "    text = text.replace('\"', '\\'')\n",
    "    edited_data.at[counter, '<Text>'] = '\"' + text + '\"'\n",
    "    counter = counter + 1\n",
    "\n",
    "edited_data['<Text>'] = edited_data['<Text>'].replace('[[]]', '', regex=True)\n",
    "edited_data['<Text>'] = edited_data['<Text>'].replace('[[\\']', '', regex=True)\n",
    "edited_data['<Text>'] = edited_data['<Text>'].replace('[\\']]', '', regex=True)\n",
    "edited_data['<Text>'] = edited_data['<Text>'].replace('[]]', '', regex=True)\n",
    "edited_data['<Text>'] = edited_data['<Text>'].replace('  ', ' ', regex=True)\n",
    "edited_data['<Text>'] = edited_data['<Text>'].replace('\"\"', np.nan, regex=True)\n",
    "edited_data['<Text>']\n"
   ]
  },
  {
   "cell_type": "code",
   "execution_count": null,
   "metadata": {},
   "outputs": [],
   "source": [
    "edited_data"
   ]
  },
  {
   "cell_type": "code",
   "execution_count": null,
   "metadata": {},
   "outputs": [],
   "source": [
    "counter = 0\n",
    "for i in edited_data['temp']:\n",
    "    temp = re.sub('\"([^\"]*)\"', '', str(i))\n",
    "    edited_data.at[counter, 'temp'] = str(temp)\n",
    "    counter = counter + 1\n",
    "\n",
    "edited_data['temp'].unique()"
   ]
  },
  {
   "cell_type": "code",
   "execution_count": null,
   "metadata": {},
   "outputs": [],
   "source": [
    "edited_data['temp'] = edited_data['temp'].replace('—', '--', regex=True)\n",
    "edited_data['temp'] = edited_data['temp'].replace('--', '', regex=True)\n",
    "counter = 0\n",
    "for i in edited_data['temp']:\n",
    "    source = edited_data.at[counter, 'temp']\n",
    "    edited_data.at[counter, '<TextSource>'] = str(source) # if 'Author of' esque data in temp, no source\n",
    "    # if '<i>' not in str(i):\n",
    "    #     text = str(i).replace('--', '')\n",
    "    counter = counter + 1\n",
    "\n",
    "edited_data['<TextSource>'] = edited_data['<TextSource>'].replace('[[]]', np.nan, regex=True)\n",
    "edited_data['<TextSource>'] = edited_data['<TextSource>'].replace('[[\\']', '', regex=True)\n",
    "edited_data['<TextSource>'] = edited_data['<TextSource>'].replace('[\\']]', '', regex=True)\n",
    "edited_data['<TextSource>'] = edited_data['<TextSource>'].replace('[]]', '', regex=True)\n",
    "edited_data['<TextSource>'] = edited_data['<TextSource>'].replace('  ', ' ', regex=True)\n",
    "edited_data['<TextSource>'] = edited_data['<TextSource>'].replace('\\n', '', regex=True)\n",
    "edited_data['<TextSource>']"
   ]
  },
  {
   "cell_type": "code",
   "execution_count": null,
   "metadata": {},
   "outputs": [],
   "source": [
    "edited_data = edited_data.drop(columns=['temp'])\n",
    "edited_data"
   ]
  }
 ],
 "metadata": {
  "interpreter": {
   "hash": "280a247eacf4578fa7ef5c49cd9c3871a1915e67cdc6e1df2f25a9a29c49b856"
  },
  "kernelspec": {
   "display_name": "Python 3.10.4 64-bit (windows store)",
   "language": "python",
   "name": "python3"
  },
  "language_info": {
   "codemirror_mode": {
    "name": "ipython",
    "version": 3
   },
   "file_extension": ".py",
   "mimetype": "text/x-python",
   "name": "python",
   "nbconvert_exporter": "python",
   "pygments_lexer": "ipython3",
   "version": "3.10.5"
  },
  "orig_nbformat": 4
 },
 "nbformat": 4,
 "nbformat_minor": 2
}
